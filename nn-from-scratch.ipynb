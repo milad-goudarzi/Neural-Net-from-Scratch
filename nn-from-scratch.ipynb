{
 "cells": [
  {
   "cell_type": "code",
   "execution_count": 1,
   "id": "a349d52f",
   "metadata": {
    "execution": {
     "iopub.execute_input": "2022-09-11T16:27:29.265632Z",
     "iopub.status.busy": "2022-09-11T16:27:29.265121Z",
     "iopub.status.idle": "2022-09-11T16:27:33.503248Z",
     "shell.execute_reply": "2022-09-11T16:27:33.501833Z"
    },
    "papermill": {
     "duration": 4.247282,
     "end_time": "2022-09-11T16:27:33.506174",
     "exception": false,
     "start_time": "2022-09-11T16:27:29.258892",
     "status": "completed"
    },
    "tags": []
   },
   "outputs": [],
   "source": [
    "import numpy as np\n",
    "import pandas as pd\n",
    "from matplotlib import pyplot as plt\n",
    "\n",
    "data = pd.read_csv('/kaggle/input/digit-recognizer/train.csv')"
   ]
  },
  {
   "cell_type": "code",
   "execution_count": 2,
   "id": "17c906be",
   "metadata": {
    "execution": {
     "iopub.execute_input": "2022-09-11T16:27:33.515550Z",
     "iopub.status.busy": "2022-09-11T16:27:33.514649Z",
     "iopub.status.idle": "2022-09-11T16:27:34.259633Z",
     "shell.execute_reply": "2022-09-11T16:27:34.258750Z"
    },
    "papermill": {
     "duration": 0.752153,
     "end_time": "2022-09-11T16:27:34.262093",
     "exception": false,
     "start_time": "2022-09-11T16:27:33.509940",
     "status": "completed"
    },
    "tags": []
   },
   "outputs": [],
   "source": [
    "data = np.array(data)\n",
    "m, n = data.shape\n",
    "np.random.shuffle(data) # shuffle before splitting into dev and training sets\n",
    "\n",
    "data_dev = data[0:1000].T\n",
    "Y_dev = data_dev[0]\n",
    "X_dev = data_dev[1:n]\n",
    "X_dev = X_dev / 255.\n",
    "\n",
    "data_train = data[1000:m].T\n",
    "Y_train = data_train[0]\n",
    "X_train = data_train[1:n]\n",
    "X_train = X_train / 255.\n",
    "_,m_train = X_train.shape"
   ]
  },
  {
   "cell_type": "code",
   "execution_count": 3,
   "id": "3381c7de",
   "metadata": {
    "execution": {
     "iopub.execute_input": "2022-09-11T16:27:34.271662Z",
     "iopub.status.busy": "2022-09-11T16:27:34.270646Z",
     "iopub.status.idle": "2022-09-11T16:27:34.283357Z",
     "shell.execute_reply": "2022-09-11T16:27:34.282587Z"
    },
    "papermill": {
     "duration": 0.020262,
     "end_time": "2022-09-11T16:27:34.285908",
     "exception": false,
     "start_time": "2022-09-11T16:27:34.265646",
     "status": "completed"
    },
    "tags": []
   },
   "outputs": [],
   "source": [
    "def params_init(n_inputs, n_outputs):\n",
    "    w = np.random.rand(n_inputs, n_outputs) * np.sqrt(1 / n_outputs)\n",
    "    b = np.zeros((n_inputs, 1))\n",
    "    return w, b\n",
    "\n",
    "def reLU(x):\n",
    "    return np.maximum(x,0)\n",
    "\n",
    "def l_reLU(x, alpha = 0.01):\n",
    "    return np.maximum(x, alpha*x)\n",
    "\n",
    "def reLU_der(x):\n",
    "    return x > 0\n",
    "\n",
    "def l_reLU_der(x, alpha = 0.01):\n",
    "    dx = np.ones_like(x)\n",
    "    dx[x < 0] = alpha\n",
    "    return dx\n",
    "\n",
    "def sigmoid(x):\n",
    "    return 1 / (1 + np.exp(-x))\n",
    "\n",
    "def sigmoid_der(x):\n",
    "    return np.exp(-x) / (1 + np.exp(-x))**2\n",
    "\n",
    "def tanh(x):\n",
    "    return np.tanh(x)\n",
    "\n",
    "def tanh_der(x):\n",
    "    return 1 - np.tanh(x)**2\n",
    "\n",
    "def softmax(x):\n",
    "    result = np.exp(x) / sum(np.exp(x))\n",
    "    return result\n",
    "\n",
    "\n",
    "def softmax_der(backward_in, forward_out):\n",
    "\n",
    "    # Ensure that everything is in the right shape\n",
    "    softmax = np.reshape(forward_out, (1, -1))\n",
    "    grad = np.reshape(backward_in, (1, -1))\n",
    "\n",
    "    d_softmax = (\n",
    "        softmax * np.identity(softmax.size)\n",
    "        - softmax.transpose() @ softmax)\n",
    "    backward_out = (grad @ d_softmax).ravel()\n",
    "    return backward_out\n",
    "\n",
    "\n",
    "\n",
    "def update_params(w, b, dw, db, lr=1e-3):\n",
    "    w_new = w - lr*dw\n",
    "    b_new = b - lr*db\n",
    "    return w_new, b_new\n",
    "\n",
    "\n",
    "def one_hot(Y):\n",
    "    one_hot_Y = np.zeros((Y.size, Y.max() + 1))\n",
    "    one_hot_Y[np.arange(Y.size), Y] = 1\n",
    "    one_hot_Y = one_hot_Y.T\n",
    "    return one_hot_Y"
   ]
  },
  {
   "cell_type": "code",
   "execution_count": 4,
   "id": "82682af7",
   "metadata": {
    "execution": {
     "iopub.execute_input": "2022-09-11T16:27:34.294575Z",
     "iopub.status.busy": "2022-09-11T16:27:34.294117Z",
     "iopub.status.idle": "2022-09-11T16:27:34.305398Z",
     "shell.execute_reply": "2022-09-11T16:27:34.304282Z"
    },
    "papermill": {
     "duration": 0.018295,
     "end_time": "2022-09-11T16:27:34.307687",
     "exception": false,
     "start_time": "2022-09-11T16:27:34.289392",
     "status": "completed"
    },
    "tags": []
   },
   "outputs": [],
   "source": [
    "def forw_prop(w1, b1, w2, b2, X, activation):\n",
    "    Z1 = w1.dot(X) + b1\n",
    "    A1 = activation(Z1)\n",
    "    Z2 = w2.dot(A1) + b2\n",
    "    A2 = softmax(Z2)\n",
    "    return Z1, A1, Z2, A2\n",
    "\n",
    "\n",
    "def back_prop(Z1, A1, Z2, A2, w1, w2, X, Y, act_deriv):\n",
    "    one_hot_Y = one_hot(Y)\n",
    "    dZ2 = A2 - one_hot_Y\n",
    "    dW2 = 1 / m * dZ2.dot(A1.T)\n",
    "    db2 = 1 / m * np.sum(dZ2)\n",
    "    dZ1 = w2.T.dot(dZ2) * act_deriv(Z1)\n",
    "    dW1 = 1 / m * dZ1.dot(X.T)\n",
    "    db1 = 1 / m * np.sum(dZ1)\n",
    "    return dW1, db1, dW2, db2\n",
    "\n"
   ]
  },
  {
   "cell_type": "code",
   "execution_count": 5,
   "id": "9de02862",
   "metadata": {
    "execution": {
     "iopub.execute_input": "2022-09-11T16:27:34.316135Z",
     "iopub.status.busy": "2022-09-11T16:27:34.315715Z",
     "iopub.status.idle": "2022-09-11T16:27:34.324787Z",
     "shell.execute_reply": "2022-09-11T16:27:34.323902Z"
    },
    "papermill": {
     "duration": 0.015637,
     "end_time": "2022-09-11T16:27:34.326807",
     "exception": false,
     "start_time": "2022-09-11T16:27:34.311170",
     "status": "completed"
    },
    "tags": []
   },
   "outputs": [],
   "source": [
    "def get_predictions(A2):\n",
    "    return np.argmax(A2, 0)\n",
    "\n",
    "def get_accuracy(predictions, Y):\n",
    "    print(predictions, Y)\n",
    "    return np.sum(predictions == Y) / Y.size\n",
    "\n",
    "def gradient_descent(X, Y, lr, iterations):\n",
    "    W1, b1 = params_init(30, 784)\n",
    "    W2, b2 = params_init(10,30)\n",
    "    for i in range(iterations):\n",
    "        Z1, A1, Z2, A2 = forw_prop(W1, b1, W2, b2, X, l_reLU)\n",
    "        dW1, db1, dW2, db2 = back_prop(Z1, A1, Z2, A2, W1, W2, X, Y, l_reLU_der)\n",
    "        W1, b1 = update_params(W1, b1, dW1, db1, lr)\n",
    "        W2, b2 = update_params(W2, b2, dW2, db2, lr)\n",
    "        if i % 10 == 0:\n",
    "            print(\"Iteration: \", i)\n",
    "            predictions = get_predictions(A2)\n",
    "            print(get_accuracy(predictions, Y))\n",
    "    return W1, b1, W2, b2"
   ]
  },
  {
   "cell_type": "code",
   "execution_count": 6,
   "id": "eec04869",
   "metadata": {
    "execution": {
     "iopub.execute_input": "2022-09-11T16:27:34.335071Z",
     "iopub.status.busy": "2022-09-11T16:27:34.334415Z",
     "iopub.status.idle": "2022-09-11T16:29:16.651612Z",
     "shell.execute_reply": "2022-09-11T16:29:16.650186Z"
    },
    "papermill": {
     "duration": 102.326837,
     "end_time": "2022-09-11T16:29:16.657019",
     "exception": false,
     "start_time": "2022-09-11T16:27:34.330182",
     "status": "completed"
    },
    "tags": []
   },
   "outputs": [
    {
     "name": "stdout",
     "output_type": "stream",
     "text": [
      "Iteration:  0\n",
      "[8 3 8 ... 8 3 8] [1 9 8 ... 1 9 9]\n",
      "0.09141463414634146\n",
      "Iteration:  10\n",
      "[2 0 3 ... 8 0 0] [1 9 8 ... 1 9 9]\n",
      "0.19895121951219513\n",
      "Iteration:  20\n",
      "[2 7 3 ... 8 7 4] [1 9 8 ... 1 9 9]\n",
      "0.49558536585365853\n",
      "Iteration:  30\n",
      "[2 7 3 ... 1 7 4] [1 9 8 ... 1 9 9]\n",
      "0.6636585365853659\n",
      "Iteration:  40\n",
      "[2 7 3 ... 1 7 4] [1 9 8 ... 1 9 9]\n",
      "0.7040243902439024\n",
      "Iteration:  50\n",
      "[2 7 3 ... 1 7 4] [1 9 8 ... 1 9 9]\n",
      "0.7399512195121951\n",
      "Iteration:  60\n",
      "[2 7 3 ... 1 7 4] [1 9 8 ... 1 9 9]\n",
      "0.7738048780487805\n",
      "Iteration:  70\n",
      "[2 9 3 ... 1 7 4] [1 9 8 ... 1 9 9]\n",
      "0.7990975609756098\n",
      "Iteration:  80\n",
      "[2 9 3 ... 1 9 4] [1 9 8 ... 1 9 9]\n",
      "0.8161219512195121\n",
      "Iteration:  90\n",
      "[2 9 3 ... 1 9 4] [1 9 8 ... 1 9 9]\n",
      "0.8295853658536585\n",
      "Iteration:  100\n",
      "[2 9 3 ... 1 9 4] [1 9 8 ... 1 9 9]\n",
      "0.8395365853658536\n",
      "Iteration:  110\n",
      "[2 9 3 ... 1 9 4] [1 9 8 ... 1 9 9]\n",
      "0.8466585365853658\n",
      "Iteration:  120\n",
      "[2 9 3 ... 1 9 4] [1 9 8 ... 1 9 9]\n",
      "0.8529268292682927\n",
      "Iteration:  130\n",
      "[2 9 3 ... 1 9 9] [1 9 8 ... 1 9 9]\n",
      "0.8581951219512195\n",
      "Iteration:  140\n",
      "[2 9 3 ... 1 9 9] [1 9 8 ... 1 9 9]\n",
      "0.862609756097561\n",
      "Iteration:  150\n",
      "[2 9 3 ... 1 9 9] [1 9 8 ... 1 9 9]\n",
      "0.8670487804878049\n",
      "Iteration:  160\n",
      "[2 9 3 ... 1 9 9] [1 9 8 ... 1 9 9]\n",
      "0.8702439024390244\n",
      "Iteration:  170\n",
      "[2 9 3 ... 1 9 9] [1 9 8 ... 1 9 9]\n",
      "0.8730975609756098\n",
      "Iteration:  180\n",
      "[2 9 3 ... 1 9 9] [1 9 8 ... 1 9 9]\n",
      "0.8754390243902439\n",
      "Iteration:  190\n",
      "[2 9 3 ... 1 9 9] [1 9 8 ... 1 9 9]\n",
      "0.8777073170731707\n",
      "Iteration:  200\n",
      "[1 9 3 ... 1 9 9] [1 9 8 ... 1 9 9]\n",
      "0.8796341463414634\n",
      "Iteration:  210\n",
      "[1 9 8 ... 1 9 9] [1 9 8 ... 1 9 9]\n",
      "0.8816341463414634\n",
      "Iteration:  220\n",
      "[1 9 8 ... 1 9 9] [1 9 8 ... 1 9 9]\n",
      "0.8833170731707317\n",
      "Iteration:  230\n",
      "[1 9 8 ... 1 9 9] [1 9 8 ... 1 9 9]\n",
      "0.8849756097560976\n",
      "Iteration:  240\n",
      "[1 9 8 ... 1 9 9] [1 9 8 ... 1 9 9]\n",
      "0.8863414634146342\n",
      "Iteration:  250\n",
      "[1 9 8 ... 1 9 9] [1 9 8 ... 1 9 9]\n",
      "0.8874390243902439\n",
      "Iteration:  260\n",
      "[1 9 8 ... 1 9 9] [1 9 8 ... 1 9 9]\n",
      "0.8885365853658537\n",
      "Iteration:  270\n",
      "[1 9 8 ... 1 9 9] [1 9 8 ... 1 9 9]\n",
      "0.8896585365853659\n",
      "Iteration:  280\n",
      "[1 9 8 ... 1 9 9] [1 9 8 ... 1 9 9]\n",
      "0.8908780487804878\n",
      "Iteration:  290\n",
      "[1 9 8 ... 1 9 9] [1 9 8 ... 1 9 9]\n",
      "0.8919512195121951\n",
      "Iteration:  300\n",
      "[1 9 8 ... 1 9 9] [1 9 8 ... 1 9 9]\n",
      "0.8928048780487805\n",
      "Iteration:  310\n",
      "[1 9 8 ... 1 9 9] [1 9 8 ... 1 9 9]\n",
      "0.8937073170731707\n",
      "Iteration:  320\n",
      "[1 9 8 ... 1 9 9] [1 9 8 ... 1 9 9]\n",
      "0.8946585365853659\n",
      "Iteration:  330\n",
      "[1 9 8 ... 1 9 9] [1 9 8 ... 1 9 9]\n",
      "0.8951463414634147\n",
      "Iteration:  340\n",
      "[1 9 8 ... 1 9 9] [1 9 8 ... 1 9 9]\n",
      "0.8960975609756098\n",
      "Iteration:  350\n",
      "[1 9 8 ... 1 9 9] [1 9 8 ... 1 9 9]\n",
      "0.8968536585365854\n",
      "Iteration:  360\n",
      "[1 9 8 ... 1 9 9] [1 9 8 ... 1 9 9]\n",
      "0.8976341463414634\n",
      "Iteration:  370\n",
      "[1 9 8 ... 1 9 9] [1 9 8 ... 1 9 9]\n",
      "0.8982682926829268\n",
      "Iteration:  380\n",
      "[1 9 8 ... 1 9 9] [1 9 8 ... 1 9 9]\n",
      "0.8988048780487805\n",
      "Iteration:  390\n",
      "[1 9 8 ... 1 9 9] [1 9 8 ... 1 9 9]\n",
      "0.8993658536585366\n",
      "Iteration:  400\n",
      "[1 9 8 ... 1 9 9] [1 9 8 ... 1 9 9]\n",
      "0.8999756097560976\n",
      "Iteration:  410\n",
      "[1 9 8 ... 1 9 9] [1 9 8 ... 1 9 9]\n",
      "0.9004634146341464\n",
      "Iteration:  420\n",
      "[1 9 8 ... 1 9 9] [1 9 8 ... 1 9 9]\n",
      "0.9007073170731708\n",
      "Iteration:  430\n",
      "[1 9 8 ... 1 9 9] [1 9 8 ... 1 9 9]\n",
      "0.9009268292682927\n",
      "Iteration:  440\n",
      "[1 9 8 ... 1 9 9] [1 9 8 ... 1 9 9]\n",
      "0.9012682926829269\n",
      "Iteration:  450\n",
      "[1 9 8 ... 1 9 9] [1 9 8 ... 1 9 9]\n",
      "0.9016829268292683\n",
      "Iteration:  460\n",
      "[1 9 8 ... 1 9 9] [1 9 8 ... 1 9 9]\n",
      "0.9023414634146342\n",
      "Iteration:  470\n",
      "[1 9 8 ... 1 9 9] [1 9 8 ... 1 9 9]\n",
      "0.9028536585365854\n",
      "Iteration:  480\n",
      "[1 9 8 ... 1 9 9] [1 9 8 ... 1 9 9]\n",
      "0.9033170731707317\n",
      "Iteration:  490\n",
      "[1 9 8 ... 1 9 9] [1 9 8 ... 1 9 9]\n",
      "0.9039024390243903\n"
     ]
    }
   ],
   "source": [
    "W1, b1, W2, b2 = gradient_descent(X_train, Y_train, 0.1, 500)"
   ]
  },
  {
   "cell_type": "code",
   "execution_count": 7,
   "id": "8688676d",
   "metadata": {
    "execution": {
     "iopub.execute_input": "2022-09-11T16:29:16.691816Z",
     "iopub.status.busy": "2022-09-11T16:29:16.691093Z",
     "iopub.status.idle": "2022-09-11T16:29:16.711654Z",
     "shell.execute_reply": "2022-09-11T16:29:16.710089Z"
    },
    "papermill": {
     "duration": 0.043554,
     "end_time": "2022-09-11T16:29:16.716584",
     "exception": false,
     "start_time": "2022-09-11T16:29:16.673030",
     "status": "completed"
    },
    "tags": []
   },
   "outputs": [],
   "source": [
    "def make_predictions(X, W1, b1, W2, b2):\n",
    "    _, _, _, A2 = forw_prop(W1, b1, W2, b2, X, l_reLU)\n",
    "    predictions = get_predictions(A2)\n",
    "    return predictions\n",
    "\n",
    "def test_prediction(index, W1, b1, W2, b2):\n",
    "    current_image = X_train[:, index, None]\n",
    "    prediction = make_predictions(X_train[:, index, None], W1, b1, W2, b2)\n",
    "    label = Y_train[index]\n",
    "    print(\"Prediction: \", prediction)\n",
    "    print(\"Label: \", label)\n",
    "    \n",
    "    current_image = current_image.reshape((28, 28)) * 255\n",
    "    plt.gray()\n",
    "    plt.imshow(current_image, interpolation='nearest')\n",
    "    plt.show()"
   ]
  },
  {
   "cell_type": "code",
   "execution_count": 8,
   "id": "98f71efb",
   "metadata": {
    "execution": {
     "iopub.execute_input": "2022-09-11T16:29:16.751768Z",
     "iopub.status.busy": "2022-09-11T16:29:16.751069Z",
     "iopub.status.idle": "2022-09-11T16:29:17.579971Z",
     "shell.execute_reply": "2022-09-11T16:29:17.578777Z"
    },
    "papermill": {
     "duration": 0.849813,
     "end_time": "2022-09-11T16:29:17.582983",
     "exception": false,
     "start_time": "2022-09-11T16:29:16.733170",
     "status": "completed"
    },
    "tags": []
   },
   "outputs": [
    {
     "name": "stdout",
     "output_type": "stream",
     "text": [
      "Prediction:  [1]\n",
      "Label:  1\n"
     ]
    },
    {
     "data": {
      "image/png": "[encoded data removed]",
      "text/plain": [
       "<Figure size 432x288 with 1 Axes>"
      ]
     },
     "metadata": {
      "needs_background": "light"
     },
     "output_type": "display_data"
    },
    {
     "name": "stdout",
     "output_type": "stream",
     "text": [
      "Prediction:  [9]\n",
      "Label:  9\n"
     ]
    },
    {
     "data": {
      "image/png": "[encoded data removed]",
      "text/plain": [
       "<Figure size 432x288 with 1 Axes>"
      ]
     },
     "metadata": {
      "needs_background": "light"
     },
     "output_type": "display_data"
    },
    {
     "name": "stdout",
     "output_type": "stream",
     "text": [
      "Prediction:  [8]\n",
      "Label:  8\n"
     ]
    },
    {
     "data": {
      "image/png": "[encoded data removed]",
      "text/plain": [
       "<Figure size 432x288 with 1 Axes>"
      ]
     },
     "metadata": {
      "needs_background": "light"
     },
     "output_type": "display_data"
    },
    {
     "name": "stdout",
     "output_type": "stream",
     "text": [
      "Prediction:  [7]\n",
      "Label:  7\n"
     ]
    },
    {
     "data": {
      "image/png": "[encoded data removed]",
      "text/plain": [
       "<Figure size 432x288 with 1 Axes>"
      ]
     },
     "metadata": {
      "needs_background": "light"
     },
     "output_type": "display_data"
    }
   ],
   "source": [
    "test_prediction(0, W1, b1, W2, b2)\n",
    "test_prediction(1, W1, b1, W2, b2)\n",
    "test_prediction(2, W1, b1, W2, b2)\n",
    "test_prediction(3, W1, b1, W2, b2)"
   ]
  },
  {
   "cell_type": "code",
   "execution_count": 9,
   "id": "b5d5a516",
   "metadata": {
    "execution": {
     "iopub.execute_input": "2022-09-11T16:29:17.600970Z",
     "iopub.status.busy": "2022-09-11T16:29:17.600271Z",
     "iopub.status.idle": "2022-09-11T16:29:17.645656Z",
     "shell.execute_reply": "2022-09-11T16:29:17.642195Z"
    },
    "papermill": {
     "duration": 0.059669,
     "end_time": "2022-09-11T16:29:17.650480",
     "exception": false,
     "start_time": "2022-09-11T16:29:17.590811",
     "status": "completed"
    },
    "tags": []
   },
   "outputs": [
    {
     "name": "stdout",
     "output_type": "stream",
     "text": [
      "[9 9 4 3 8 3 1 4 6 0 0 7 4 9 1 8 2 0 4 4 8 9 7 4 9 6 4 9 5 8 7 9 6 0 9 7 6\n",
      " 3 7 4 3 5 9 8 7 7 8 2 0 5 4 1 4 3 1 6 2 5 1 1 1 5 9 6 2 3 6 4 4 3 3 2 8 3\n",
      " 5 4 6 3 1 3 8 0 3 7 5 4 3 0 2 6 9 9 2 5 4 7 2 5 0 1 6 1 7 1 1 3 6 4 2 2 1\n",
      " 3 1 9 5 5 9 2 1 6 6 7 9 6 6 2 1 2 7 0 5 7 0 4 5 7 5 6 4 2 0 7 5 5 0 3 1 9\n",
      " 4 9 3 9 2 6 0 4 6 8 8 8 2 2 3 9 5 5 4 4 3 5 5 8 3 3 9 5 1 4 9 2 5 0 8 2 8\n",
      " 0 2 8 5 9 3 6 0 4 6 1 6 9 2 8 1 3 7 6 0 0 9 7 7 3 4 6 0 9 2 9 4 4 1 1 1 3\n",
      " 1 0 3 8 2 3 9 1 3 0 7 1 4 0 5 5 0 6 8 2 9 1 0 3 3 5 9 8 0 3 5 2 7 6 7 3 6\n",
      " 6 9 3 4 0 2 7 9 3 1 8 7 4 3 9 1 2 5 2 4 2 6 0 5 9 4 1 1 1 3 6 6 2 3 3 1 2\n",
      " 5 2 1 6 4 4 7 5 0 9 6 4 1 3 5 2 0 8 9 6 3 3 5 5 6 3 9 3 8 2 3 1 3 2 1 1 3\n",
      " 6 1 6 4 7 6 9 2 5 7 5 0 1 2 2 6 1 2 1 4 8 3 1 3 6 3 0 7 1 2 4 1 0 6 0 4 6\n",
      " 9 0 8 1 1 0 8 5 0 3 2 1 6 9 5 5 8 3 0 9 8 9 1 2 6 4 9 2 1 8 0 7 9 1 1 1 4\n",
      " 3 4 5 8 0 5 3 1 8 2 0 1 2 9 0 3 1 8 5 4 4 6 9 3 5 3 6 8 1 8 0 5 1 9 5 2 5\n",
      " 0 9 6 7 7 9 5 8 2 7 1 8 7 2 6 7 1 8 9 5 4 1 1 1 8 1 4 0 9 1 9 1 8 6 2 0 9\n",
      " 1 1 1 1 5 9 5 1 3 9 3 0 2 4 7 7 5 6 3 7 2 7 9 4 8 7 5 0 3 1 5 8 0 7 1 1 0\n",
      " 3 3 8 4 7 6 2 6 9 1 8 3 3 6 7 1 6 0 3 7 2 2 3 1 9 4 6 7 0 5 6 3 2 3 3 1 4\n",
      " 9 3 4 4 3 8 2 1 0 6 0 1 9 1 6 7 5 9 6 7 5 7 3 2 3 4 2 0 4 4 3 6 9 7 6 0 1\n",
      " 8 5 1 6 3 8 3 8 0 0 2 6 8 6 7 3 8 0 1 7 2 2 0 8 8 1 7 9 0 2 4 8 8 9 8 1 2\n",
      " 3 4 2 2 2 4 5 5 5 7 4 3 1 4 3 2 2 3 5 4 6 3 6 3 2 2 3 3 1 3 2 9 9 6 2 6 3\n",
      " 4 6 0 6 0 8 4 4 1 0 0 9 9 5 9 2 3 7 1 2 4 3 7 3 4 0 0 6 9 2 7 4 2 7 2 0 0\n",
      " 6 2 3 3 4 6 8 9 9 7 7 6 6 2 7 8 4 9 0 3 9 1 6 1 3 0 7 4 1 2 6 1 8 1 5 0 4\n",
      " 7 0 0 0 9 9 0 5 6 0 9 9 3 3 9 7 9 9 8 5 0 3 3 0 0 7 3 2 0 1 4 4 7 2 7 1 5\n",
      " 6 0 8 5 3 9 8 5 1 1 0 4 6 7 6 3 7 6 9 0 4 8 4 3 3 1 8 2 6 8 7 4 3 5 7 7 1\n",
      " 1 0 9 6 0 0 9 3 5 3 0 7 1 4 4 0 6 1 7 8 4 7 6 4 6 8 6 6 3 2 8 1 5 0 0 0 7\n",
      " 4 7 6 2 6 8 6 6 2 0 4 4 3 7 5 5 9 2 5 3 4 8 7 7 5 0 5 8 4 9 1 7 4 3 7 2 8\n",
      " 7 5 0 4 0 7 1 7 5 5 4 9 1 9 8 9 3 1 9 3 6 0 8 8 3 0 9 3 1 0 2 3 9 6 1 1 5\n",
      " 2 2 5 5 7 2 6 8 7 9 6 9 5 5 3 9 7 8 9 9 5 2 0 0 7 9 3 0 3 4 1 4 5 9 7 3 6\n",
      " 2 6 9 1 2 8 6 3 9 8 9 0 8 7 4 2 4 1 9 3 7 1 1 6 7 2 6 2 8 5 7 4 9 1 3 4 1\n",
      " 1] [9 9 4 3 8 3 1 4 6 0 0 7 4 4 1 8 2 0 4 4 8 9 7 4 7 6 4 9 5 8 7 9 6 0 2 7 6\n",
      " 3 7 4 8 5 7 8 7 7 8 2 0 5 4 2 4 3 1 6 2 5 1 1 1 5 9 6 2 3 5 4 4 3 3 2 8 3\n",
      " 6 4 6 3 1 3 8 0 3 7 5 4 3 0 2 6 9 9 2 5 4 7 2 5 0 1 6 1 7 1 1 3 6 4 2 2 1\n",
      " 3 8 9 5 5 9 2 1 6 6 7 9 6 6 2 1 2 7 0 5 7 0 6 5 7 6 6 4 2 0 7 5 5 0 5 1 9\n",
      " 4 9 3 9 2 6 0 2 6 8 8 8 2 2 3 9 5 5 4 4 3 5 5 8 5 3 9 5 1 4 9 2 5 0 8 2 8\n",
      " 0 3 2 5 9 3 6 0 4 6 1 6 9 2 8 1 3 7 6 0 0 9 7 7 3 4 6 0 9 7 9 4 4 1 1 1 8\n",
      " 1 0 3 8 2 3 9 1 3 5 7 1 4 0 5 5 0 6 3 2 9 1 0 3 2 5 9 8 0 3 5 2 7 6 7 3 6\n",
      " 6 9 3 4 0 2 7 9 3 1 8 7 4 3 9 1 2 6 2 4 5 6 0 5 9 4 1 1 1 3 6 6 2 3 3 1 2\n",
      " 5 2 1 6 4 4 7 0 0 3 6 4 1 3 5 2 0 8 9 6 3 3 5 5 6 3 9 3 8 2 3 1 2 2 1 1 5\n",
      " 6 2 6 5 7 6 9 2 5 7 3 0 1 2 2 6 1 2 1 4 8 3 1 3 6 3 6 7 1 2 4 1 0 6 0 4 6\n",
      " 8 0 8 1 1 0 8 5 5 5 2 1 6 9 5 5 8 2 0 9 2 5 1 6 2 4 9 2 7 8 0 7 9 1 1 1 4\n",
      " 3 4 0 8 0 5 3 1 8 2 0 1 5 9 0 3 1 8 5 4 4 6 9 3 5 3 6 8 1 8 0 5 7 9 5 2 8\n",
      " 0 9 6 7 7 9 5 8 2 7 1 8 7 2 6 7 1 8 9 5 4 1 1 1 8 1 4 0 4 1 9 1 8 6 8 0 9\n",
      " 1 1 1 1 5 9 5 1 3 9 3 0 2 4 7 7 5 6 3 7 2 7 9 4 8 7 5 0 3 7 5 8 0 7 1 1 0\n",
      " 3 3 8 4 7 6 2 6 9 1 8 3 3 6 7 1 6 0 3 7 7 2 3 1 9 4 6 7 0 5 6 3 2 3 0 1 4\n",
      " 9 3 4 4 3 8 2 1 0 6 0 1 9 1 6 7 3 9 6 7 5 7 3 2 3 4 2 5 4 4 3 6 9 7 6 0 1\n",
      " 8 3 1 6 5 8 3 8 0 0 2 6 8 6 7 3 8 0 1 7 2 2 0 8 0 1 7 9 0 2 2 8 8 9 8 1 2\n",
      " 3 4 2 2 2 4 5 5 5 7 4 5 1 4 3 2 2 3 5 4 6 3 6 3 2 2 3 3 1 3 2 9 9 6 2 6 3\n",
      " 4 6 0 6 2 4 4 7 1 0 0 9 9 5 9 2 3 7 1 2 4 3 7 3 4 0 0 6 7 2 7 4 2 7 2 0 0\n",
      " 6 2 3 3 4 6 8 9 4 7 7 6 6 2 7 8 4 9 0 3 9 1 6 1 8 0 7 4 1 2 6 1 8 1 5 0 4\n",
      " 7 0 0 0 9 9 0 5 6 0 9 9 8 3 9 7 9 9 8 8 0 2 3 0 0 7 3 8 0 1 4 4 7 2 7 1 5\n",
      " 6 0 8 5 3 4 5 5 1 1 0 4 5 7 6 3 7 6 9 0 4 8 4 3 3 1 8 2 6 8 7 4 3 5 7 7 1\n",
      " 1 0 9 6 0 0 9 3 5 3 0 7 1 4 4 0 6 1 7 8 4 7 6 4 6 5 6 5 3 2 8 8 5 0 0 0 7\n",
      " 4 7 6 2 6 2 6 6 2 0 4 4 3 7 5 5 9 2 5 3 4 8 7 7 5 0 5 9 4 0 1 7 4 3 7 2 2\n",
      " 7 5 0 4 0 7 1 7 5 5 4 9 1 9 8 9 3 1 9 3 6 0 8 8 3 0 9 3 1 0 2 3 9 6 1 1 5\n",
      " 2 2 5 5 7 2 6 8 7 9 6 9 5 5 3 9 7 8 9 9 5 3 0 0 9 9 3 0 3 4 1 4 5 9 7 3 6\n",
      " 2 6 2 1 2 8 6 3 9 8 9 0 8 7 4 2 4 1 9 3 7 1 1 6 7 2 6 2 8 5 7 4 9 1 3 4 1\n",
      " 1]\n"
     ]
    },
    {
     "data": {
      "text/plain": [
       "0.921"
      ]
     },
     "execution_count": 9,
     "metadata": {},
     "output_type": "execute_result"
    }
   ],
   "source": [
    "dev_predictions = make_predictions(X_dev, W1, b1, W2, b2)\n",
    "get_accuracy(dev_predictions, Y_dev)"
   ]
  },
  {
   "cell_type": "code",
   "execution_count": null,
   "id": "b0882b20",
   "metadata": {
    "papermill": {
     "duration": 0.018428,
     "end_time": "2022-09-11T16:29:17.687784",
     "exception": false,
     "start_time": "2022-09-11T16:29:17.669356",
     "status": "completed"
    },
    "tags": []
   },
   "outputs": [],
   "source": []
  }
 ],
 "metadata": {
  "kernelspec": {
   "display_name": "Python 3",
   "language": "python",
   "name": "python3"
  },
  "language_info": {
   "codemirror_mode": {
    "name": "ipython",
    "version": 3
   },
   "file_extension": ".py",
   "mimetype": "text/x-python",
   "name": "python",
   "nbconvert_exporter": "python",
   "pygments_lexer": "ipython3",
   "version": "3.7.12"
  },
  "papermill": {
   "default_parameters": {},
   "duration": 119.37311,
   "end_time": "2022-09-11T16:29:18.435092",
   "environment_variables": {},
   "exception": null,
   "input_path": "__notebook__.ipynb",
   "output_path": "__notebook__.ipynb",
   "parameters": {},
   "start_time": "2022-09-11T16:27:19.061982",
   "version": "2.3.4"
  }
 },
 "nbformat": 4,
 "nbformat_minor": 5
}
